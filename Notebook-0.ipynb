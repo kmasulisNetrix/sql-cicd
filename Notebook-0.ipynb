{
    "metadata": {
        "kernelspec": {
            "name": "SQL",
            "display_name": "SQL",
            "language": "sql"
        },
        "language_info": {
            "name": "sql",
            "version": ""
        }
    },
    "nbformat_minor": 2,
    "nbformat": 4,
    "cells": [
        {
            "cell_type": "markdown",
            "source": [
                "This is a sample notebook supporting work on CICD"
            ],
            "metadata": {
                "azdata_cell_guid": "f1806cbb-f384-43b0-8c68-78ed825b11ea"
            },
            "attachments": {}
        },
        {
            "cell_type": "code",
            "source": [
                "SELECT top 10 *\r\n",
                "FROM SalesLT.Address\r\n",
                ""
            ],
            "metadata": {
                "azdata_cell_guid": "deac897f-ddf8-48ad-b419-be8963696348",
                "language": "sql"
            },
            "outputs": [
                {
                    "output_type": "display_data",
                    "data": {
                        "text/html": "(10 rows affected)"
                    },
                    "metadata": {}
                },
                {
                    "output_type": "display_data",
                    "data": {
                        "text/html": "Total execution time: 00:00:00.134"
                    },
                    "metadata": {}
                },
                {
                    "output_type": "execute_result",
                    "metadata": {},
                    "execution_count": 1,
                    "data": {
                        "application/vnd.dataresource+json": {
                            "schema": {
                                "fields": [
                                    {
                                        "name": "AddressID"
                                    },
                                    {
                                        "name": "AddressLine1"
                                    },
                                    {
                                        "name": "AddressLine2"
                                    },
                                    {
                                        "name": "City"
                                    },
                                    {
                                        "name": "StateProvince"
                                    },
                                    {
                                        "name": "CountryRegion"
                                    },
                                    {
                                        "name": "PostalCode"
                                    },
                                    {
                                        "name": "rowguid"
                                    },
                                    {
                                        "name": "ModifiedDate"
                                    }
                                ]
                            },
                            "data": [
                                {
                                    "0": "9",
                                    "1": "8713 Yosemite Ct.",
                                    "2": "NULL",
                                    "3": "Bothell",
                                    "4": "Washington",
                                    "5": "United States",
                                    "6": "98011",
                                    "7": "268af621-76d7-4c78-9441-144fd139821a",
                                    "8": "2006-07-01 00:00:00.000"
                                },
                                {
                                    "0": "11",
                                    "1": "1318 Lasalle Street",
                                    "2": "NULL",
                                    "3": "Bothell",
                                    "4": "Washington",
                                    "5": "United States",
                                    "6": "98011",
                                    "7": "981b3303-aca2-49c7-9a96-fb670785b269",
                                    "8": "2007-04-01 00:00:00.000"
                                },
                                {
                                    "0": "25",
                                    "1": "9178 Jumping St.",
                                    "2": "NULL",
                                    "3": "Dallas",
                                    "4": "Texas",
                                    "5": "United States",
                                    "6": "75201",
                                    "7": "c8df3bd9-48f0-4654-a8dd-14a67a84d3c6",
                                    "8": "2006-09-01 00:00:00.000"
                                },
                                {
                                    "0": "28",
                                    "1": "9228 Via Del Sol",
                                    "2": "NULL",
                                    "3": "Phoenix",
                                    "4": "Arizona",
                                    "5": "United States",
                                    "6": "85004",
                                    "7": "12ae5ee1-fc3e-468b-9b92-3b970b169774",
                                    "8": "2005-09-01 00:00:00.000"
                                },
                                {
                                    "0": "32",
                                    "1": "26910 Indela Road",
                                    "2": "NULL",
                                    "3": "Montreal",
                                    "4": "Quebec",
                                    "5": "Canada",
                                    "6": "H1Y 2H5",
                                    "7": "84a95f62-3ae8-4e7e-bbd5-5a6f00cd982d",
                                    "8": "2006-08-01 00:00:00.000"
                                },
                                {
                                    "0": "185",
                                    "1": "2681 Eagle Peak",
                                    "2": "NULL",
                                    "3": "Bellevue",
                                    "4": "Washington",
                                    "5": "United States",
                                    "6": "98004",
                                    "7": "7bccf442-2268-46cc-8472-14c44c14e98c",
                                    "8": "2006-09-01 00:00:00.000"
                                },
                                {
                                    "0": "297",
                                    "1": "7943 Walnut Ave",
                                    "2": "NULL",
                                    "3": "Renton",
                                    "4": "Washington",
                                    "5": "United States",
                                    "6": "98055",
                                    "7": "52410da4-2778-4b1d-a599-95746625ce6d",
                                    "8": "2006-08-01 00:00:00.000"
                                },
                                {
                                    "0": "445",
                                    "1": "6388 Lake City Way",
                                    "2": "NULL",
                                    "3": "Burnaby",
                                    "4": "British Columbia",
                                    "5": "Canada",
                                    "6": "V5A 3A6",
                                    "7": "53572f25-9133-4a8b-a065-102ff35416ee",
                                    "8": "2006-09-01 00:00:00.000"
                                },
                                {
                                    "0": "446",
                                    "1": "52560 Free Street",
                                    "2": "NULL",
                                    "3": "Toronto",
                                    "4": "Ontario",
                                    "5": "Canada",
                                    "6": "M4B 1V7",
                                    "7": "801a1dfc-5125-486b-aa84-ccbd2ec57ca4",
                                    "8": "2005-08-01 00:00:00.000"
                                },
                                {
                                    "0": "447",
                                    "1": "22580 Free Street",
                                    "2": "NULL",
                                    "3": "Toronto",
                                    "4": "Ontario",
                                    "5": "Canada",
                                    "6": "M4B 1V7",
                                    "7": "88cee379-dbb8-433b-b84e-a35e09435500",
                                    "8": "2006-08-01 00:00:00.000"
                                }
                            ]
                        },
                        "text/html": [
                            "<table>",
                            "<tr><th>AddressID</th><th>AddressLine1</th><th>AddressLine2</th><th>City</th><th>StateProvince</th><th>CountryRegion</th><th>PostalCode</th><th>rowguid</th><th>ModifiedDate</th></tr>",
                            "<tr><td>9</td><td>8713 Yosemite Ct.</td><td>NULL</td><td>Bothell</td><td>Washington</td><td>United States</td><td>98011</td><td>268af621-76d7-4c78-9441-144fd139821a</td><td>2006-07-01 00:00:00.000</td></tr>",
                            "<tr><td>11</td><td>1318 Lasalle Street</td><td>NULL</td><td>Bothell</td><td>Washington</td><td>United States</td><td>98011</td><td>981b3303-aca2-49c7-9a96-fb670785b269</td><td>2007-04-01 00:00:00.000</td></tr>",
                            "<tr><td>25</td><td>9178 Jumping St.</td><td>NULL</td><td>Dallas</td><td>Texas</td><td>United States</td><td>75201</td><td>c8df3bd9-48f0-4654-a8dd-14a67a84d3c6</td><td>2006-09-01 00:00:00.000</td></tr>",
                            "<tr><td>28</td><td>9228 Via Del Sol</td><td>NULL</td><td>Phoenix</td><td>Arizona</td><td>United States</td><td>85004</td><td>12ae5ee1-fc3e-468b-9b92-3b970b169774</td><td>2005-09-01 00:00:00.000</td></tr>",
                            "<tr><td>32</td><td>26910 Indela Road</td><td>NULL</td><td>Montreal</td><td>Quebec</td><td>Canada</td><td>H1Y 2H5</td><td>84a95f62-3ae8-4e7e-bbd5-5a6f00cd982d</td><td>2006-08-01 00:00:00.000</td></tr>",
                            "<tr><td>185</td><td>2681 Eagle Peak</td><td>NULL</td><td>Bellevue</td><td>Washington</td><td>United States</td><td>98004</td><td>7bccf442-2268-46cc-8472-14c44c14e98c</td><td>2006-09-01 00:00:00.000</td></tr>",
                            "<tr><td>297</td><td>7943 Walnut Ave</td><td>NULL</td><td>Renton</td><td>Washington</td><td>United States</td><td>98055</td><td>52410da4-2778-4b1d-a599-95746625ce6d</td><td>2006-08-01 00:00:00.000</td></tr>",
                            "<tr><td>445</td><td>6388 Lake City Way</td><td>NULL</td><td>Burnaby</td><td>British Columbia</td><td>Canada</td><td>V5A 3A6</td><td>53572f25-9133-4a8b-a065-102ff35416ee</td><td>2006-09-01 00:00:00.000</td></tr>",
                            "<tr><td>446</td><td>52560 Free Street</td><td>NULL</td><td>Toronto</td><td>Ontario</td><td>Canada</td><td>M4B 1V7</td><td>801a1dfc-5125-486b-aa84-ccbd2ec57ca4</td><td>2005-08-01 00:00:00.000</td></tr>",
                            "<tr><td>447</td><td>22580 Free Street</td><td>NULL</td><td>Toronto</td><td>Ontario</td><td>Canada</td><td>M4B 1V7</td><td>88cee379-dbb8-433b-b84e-a35e09435500</td><td>2006-08-01 00:00:00.000</td></tr>",
                            "</table>"
                        ]
                    }
                }
            ],
            "execution_count": 1
        }
    ]
}